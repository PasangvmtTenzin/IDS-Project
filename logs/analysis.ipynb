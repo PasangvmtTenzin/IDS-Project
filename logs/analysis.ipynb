{
 "cells": [
  {
   "cell_type": "code",
   "execution_count": 1,
   "id": "63f886ee",
   "metadata": {},
   "outputs": [
    {
     "name": "stdout",
     "output_type": "stream",
     "text": [
      "Requirement already satisfied: matplotlib in c:\\users\\pasan\\appdata\\local\\programs\\python\\python312\\lib\\site-packages (3.10.3)\n",
      "Requirement already satisfied: contourpy>=1.0.1 in c:\\users\\pasan\\appdata\\local\\programs\\python\\python312\\lib\\site-packages (from matplotlib) (1.3.2)\n",
      "Requirement already satisfied: cycler>=0.10 in c:\\users\\pasan\\appdata\\local\\programs\\python\\python312\\lib\\site-packages (from matplotlib) (0.12.1)\n",
      "Requirement already satisfied: fonttools>=4.22.0 in c:\\users\\pasan\\appdata\\local\\programs\\python\\python312\\lib\\site-packages (from matplotlib) (4.57.0)\n",
      "Requirement already satisfied: kiwisolver>=1.3.1 in c:\\users\\pasan\\appdata\\local\\programs\\python\\python312\\lib\\site-packages (from matplotlib) (1.4.8)\n",
      "Requirement already satisfied: numpy>=1.23 in c:\\users\\pasan\\appdata\\local\\programs\\python\\python312\\lib\\site-packages (from matplotlib) (2.2.5)\n",
      "Requirement already satisfied: packaging>=20.0 in c:\\users\\pasan\\appdata\\local\\programs\\python\\python312\\lib\\site-packages (from matplotlib) (24.2)\n",
      "Requirement already satisfied: pillow>=8 in c:\\users\\pasan\\appdata\\local\\programs\\python\\python312\\lib\\site-packages (from matplotlib) (11.2.1)\n",
      "Requirement already satisfied: pyparsing>=2.3.1 in c:\\users\\pasan\\appdata\\local\\programs\\python\\python312\\lib\\site-packages (from matplotlib) (3.2.3)\n",
      "Requirement already satisfied: python-dateutil>=2.7 in c:\\users\\pasan\\appdata\\roaming\\python\\python312\\site-packages (from matplotlib) (2.9.0.post0)\n",
      "Requirement already satisfied: six>=1.5 in c:\\users\\pasan\\appdata\\roaming\\python\\python312\\site-packages (from python-dateutil>=2.7->matplotlib) (1.17.0)\n",
      "Note: you may need to restart the kernel to use updated packages.\n"
     ]
    },
    {
     "name": "stderr",
     "output_type": "stream",
     "text": [
      "\n",
      "[notice] A new release of pip is available: 25.0.1 -> 25.1.1\n",
      "[notice] To update, run: python.exe -m pip install --upgrade pip\n"
     ]
    }
   ],
   "source": [
    "%pip install matplotlib"
   ]
  },
  {
   "cell_type": "code",
   "execution_count": 2,
   "id": "100a1ee9",
   "metadata": {},
   "outputs": [],
   "source": [
    "import json\n",
    "from collections import Counter, defaultdict\n",
    "import matplotlib.pyplot as plt"
   ]
  },
  {
   "cell_type": "code",
   "execution_count": 3,
   "id": "2f4fe756",
   "metadata": {},
   "outputs": [],
   "source": [
    "# Load the log file\n",
    "log_file = \"eve.json\"\n",
    "\n",
    "alerts = []\n",
    "signature_counter = Counter()\n",
    "ip_counter = Counter()\n",
    "alerts_by_sid = defaultdict(list)"
   ]
  },
  {
   "cell_type": "code",
   "execution_count": 5,
   "id": "a27a1b05",
   "metadata": {},
   "outputs": [
    {
     "name": "stdout",
     "output_type": "stream",
     "text": [
      "{'timestamp': '2025-05-09T08:14:09.701406+0000', 'flow_id': 516351909249015, 'in_iface': 'eth0', 'event_type': 'flow', 'src_ip': 'fe80:0000:0000:0000:2838:6cff:fe19:b404', 'dest_ip': 'ff02:0000:0000:0000:0000:0000:0000:0016', 'proto': 'IPv6-ICMP', 'icmp_type': 143, 'icmp_code': 0, 'flow': {'pkts_toserver': 4, 'pkts_toclient': 0, 'bytes_toserver': 440, 'bytes_toclient': 0, 'start': '2025-05-09T08:13:37.251294+0000', 'end': '2025-05-09T08:13:37.791239+0000', 'age': 0, 'state': 'new', 'reason': 'timeout', 'alerted': False}}\n",
      "{'timestamp': '2025-05-09T09:37:44.660779+0000', 'flow_id': 2019905126042736, 'in_iface': 'eth0', 'event_type': 'flow', 'src_ip': 'fe80:0000:0000:0000:4cce:1cff:fe97:f08f', 'dest_ip': 'ff02:0000:0000:0000:0000:0000:0000:0016', 'proto': 'IPv6-ICMP', 'icmp_type': 143, 'icmp_code': 0, 'flow': {'pkts_toserver': 4, 'pkts_toclient': 0, 'bytes_toserver': 440, 'bytes_toclient': 0, 'start': '2025-05-09T09:37:11.208151+0000', 'end': '2025-05-09T09:37:11.807975+0000', 'age': 0, 'state': 'new', 'reason': 'timeout', 'alerted': False}}\n",
      "{'timestamp': '2025-05-10T07:01:31.096558+0000', 'flow_id': 1389544884852670, 'in_iface': 'eth0', 'event_type': 'flow', 'src_ip': 'fe80:0000:0000:0000:2020:a6ff:fe57:e031', 'dest_ip': 'ff02:0000:0000:0000:0000:0000:0000:0016', 'proto': 'IPv6-ICMP', 'icmp_type': 143, 'icmp_code': 0, 'flow': {'pkts_toserver': 1, 'pkts_toclient': 0, 'bytes_toserver': 150, 'bytes_toclient': 0, 'start': '2025-05-10T07:01:00.651208+0000', 'end': '2025-05-10T07:01:00.651208+0000', 'age': 0, 'state': 'new', 'reason': 'timeout', 'alerted': False}}\n",
      "{'timestamp': '2025-05-10T07:01:32.081757+0000', 'flow_id': 1403711406805740, 'in_iface': 'eth0', 'event_type': 'flow', 'src_ip': 'fe80:0000:0000:0000:2cb9:50ff:fe3e:9ca1', 'dest_ip': 'ff02:0000:0000:0000:0000:0000:0000:0016', 'proto': 'IPv6-ICMP', 'icmp_type': 143, 'icmp_code': 0, 'flow': {'pkts_toserver': 4, 'pkts_toclient': 0, 'bytes_toserver': 440, 'bytes_toclient': 0, 'start': '2025-05-10T07:01:00.851115+0000', 'end': '2025-05-10T07:01:01.811181+0000', 'age': 1, 'state': 'new', 'reason': 'timeout', 'alerted': False}}\n",
      "{'timestamp': '2025-05-10T07:17:00.734579+0000', 'flow_id': 1171456428367494, 'in_iface': 'eth0', 'event_type': 'flow', 'src_ip': '172.18.0.1', 'src_port': 34854, 'dest_ip': '172.18.0.2', 'dest_port': 80, 'proto': 'TCP', 'flow': {'pkts_toserver': 1, 'pkts_toclient': 0, 'bytes_toserver': 74, 'bytes_toclient': 0, 'start': '2025-05-10T07:16:28.731502+0000', 'end': '2025-05-10T07:16:28.731502+0000', 'age': 0, 'state': 'new', 'reason': 'timeout', 'alerted': False}, 'tcp': {'tcp_flags': '02', 'tcp_flags_ts': '02', 'tcp_flags_tc': '00', 'syn': True, 'state': 'syn_sent', 'ts_max_regions': 1, 'tc_max_regions': 1}}\n",
      "{'timestamp': '2025-05-10T07:17:02.708450+0000', 'flow_id': 1283530186801114, 'in_iface': 'eth0', 'event_type': 'flow', 'src_ip': '172.18.0.2', 'src_port': 44046, 'dest_ip': '172.18.0.3', 'dest_port': 5000, 'proto': 'TCP', 'flow': {'pkts_toserver': 1, 'pkts_toclient': 0, 'bytes_toserver': 74, 'bytes_toclient': 0, 'start': '2025-05-10T07:16:28.954205+0000', 'end': '2025-05-10T07:16:28.954205+0000', 'age': 0, 'state': 'new', 'reason': 'timeout', 'alerted': False}, 'tcp': {'tcp_flags': '02', 'tcp_flags_ts': '02', 'tcp_flags_tc': '00', 'syn': True, 'state': 'syn_sent', 'ts_max_regions': 1, 'tc_max_regions': 1}}\n",
      "{'timestamp': '2025-05-10T07:17:03.696052+0000', 'flow_id': 1313453382964084, 'in_iface': 'eth0', 'event_type': 'flow', 'src_ip': '172.18.0.3', 'src_port': 51706, 'dest_ip': '172.18.0.5', 'dest_port': 5432, 'proto': 'TCP', 'flow': {'pkts_toserver': 1, 'pkts_toclient': 0, 'bytes_toserver': 74, 'bytes_toclient': 0, 'start': '2025-05-10T07:16:28.961172+0000', 'end': '2025-05-10T07:16:28.961172+0000', 'age': 0, 'state': 'new', 'reason': 'timeout', 'alerted': False}, 'tcp': {'tcp_flags': '02', 'tcp_flags_ts': '02', 'tcp_flags_tc': '00', 'syn': True, 'state': 'syn_sent', 'ts_max_regions': 1, 'tc_max_regions': 1}}\n",
      "{'timestamp': '2025-05-10T07:46:50.406423+0000', 'flow_id': 619946329265759, 'in_iface': 'eth0', 'event_type': 'flow', 'src_ip': 'fe80:0000:0000:0000:20a0:8dff:fec2:aa72', 'dest_ip': 'ff02:0000:0000:0000:0000:0000:0000:0016', 'proto': 'IPv6-ICMP', 'icmp_type': 143, 'icmp_code': 0, 'flow': {'pkts_toserver': 4, 'pkts_toclient': 0, 'bytes_toserver': 440, 'bytes_toclient': 0, 'start': '2025-05-10T07:46:18.472022+0000', 'end': '2025-05-10T07:46:19.431912+0000', 'age': 1, 'state': 'new', 'reason': 'timeout', 'alerted': False}}\n",
      "{'timestamp': '2025-05-10T08:11:34.380138+0000', 'flow_id': 1933813742940737, 'in_iface': 'eth0', 'event_type': 'flow', 'src_ip': '172.18.0.4', 'src_port': 45864, 'dest_ip': '172.18.0.3', 'dest_port': 5000, 'proto': 'TCP', 'flow': {'pkts_toserver': 1, 'pkts_toclient': 0, 'bytes_toserver': 74, 'bytes_toclient': 0, 'start': '2025-05-10T08:11:02.843467+0000', 'end': '2025-05-10T08:11:02.843467+0000', 'age': 0, 'state': 'new', 'reason': 'timeout', 'alerted': False}, 'tcp': {'tcp_flags': '02', 'tcp_flags_ts': '02', 'tcp_flags_tc': '00', 'syn': True, 'state': 'syn_sent', 'ts_max_regions': 1, 'tc_max_regions': 1}}\n",
      "{'timestamp': '2025-05-10T08:11:35.366576+0000', 'flow_id': 1920444995988551, 'in_iface': 'eth0', 'event_type': 'flow', 'src_ip': '172.18.0.5', 'src_port': 59862, 'dest_ip': '172.18.0.4', 'dest_port': 80, 'proto': 'TCP', 'flow': {'pkts_toserver': 1, 'pkts_toclient': 0, 'bytes_toserver': 74, 'bytes_toclient': 0, 'start': '2025-05-10T08:11:02.840354+0000', 'end': '2025-05-10T08:11:02.840354+0000', 'age': 0, 'state': 'new', 'reason': 'timeout', 'alerted': False}, 'tcp': {'tcp_flags': '02', 'tcp_flags_ts': '02', 'tcp_flags_tc': '00', 'syn': True, 'state': 'syn_sent', 'ts_max_regions': 1, 'tc_max_regions': 1}}\n",
      "{'timestamp': '2025-05-10T08:16:22.900838+0000', 'flow_id': 1723826335975179, 'in_iface': 'eth0', 'event_type': 'flow', 'src_ip': '172.18.0.3', 'src_port': 36146, 'dest_ip': '172.18.0.2', 'dest_port': 5432, 'proto': 'TCP', 'flow': {'pkts_toserver': 1, 'pkts_toclient': 0, 'bytes_toserver': 74, 'bytes_toclient': 0, 'start': '2025-05-10T08:15:50.008143+0000', 'end': '2025-05-10T08:15:50.008143+0000', 'age': 0, 'state': 'new', 'reason': 'timeout', 'alerted': False}, 'tcp': {'tcp_flags': '02', 'tcp_flags_ts': '02', 'tcp_flags_tc': '00', 'syn': True, 'state': 'syn_sent', 'ts_max_regions': 1, 'tc_max_regions': 1}}\n",
      "{'timestamp': '2025-05-10T08:56:30.751730+0000', 'flow_id': 2132641169162559, 'in_iface': 'eth0', 'event_type': 'flow', 'src_ip': '172.18.0.3', 'src_port': 35298, 'dest_ip': '172.18.0.2', 'dest_port': 5432, 'proto': 'TCP', 'flow': {'pkts_toserver': 1, 'pkts_toclient': 0, 'bytes_toserver': 74, 'bytes_toclient': 0, 'start': '2025-05-10T08:55:59.037792+0000', 'end': '2025-05-10T08:55:59.037792+0000', 'age': 0, 'state': 'new', 'reason': 'timeout', 'alerted': False}, 'tcp': {'tcp_flags': '02', 'tcp_flags_ts': '02', 'tcp_flags_tc': '00', 'syn': True, 'state': 'syn_sent', 'ts_max_regions': 1, 'tc_max_regions': 1}}\n",
      "{'timestamp': '2025-05-10T08:56:31.732958+0000', 'flow_id': 1697505567727928, 'in_iface': 'eth0', 'event_type': 'flow', 'src_ip': '172.18.0.4', 'src_port': 39742, 'dest_ip': '172.18.0.3', 'dest_port': 5000, 'proto': 'TCP', 'flow': {'pkts_toserver': 1, 'pkts_toclient': 0, 'bytes_toserver': 74, 'bytes_toclient': 0, 'start': '2025-05-10T08:55:58.722911+0000', 'end': '2025-05-10T08:55:58.722911+0000', 'age': 0, 'state': 'new', 'reason': 'timeout', 'alerted': False}, 'tcp': {'tcp_flags': '02', 'tcp_flags_ts': '02', 'tcp_flags_tc': '00', 'syn': True, 'state': 'syn_sent', 'ts_max_regions': 1, 'tc_max_regions': 1}}\n",
      "{'timestamp': '2025-05-10T08:56:32.720995+0000', 'flow_id': 1899701642887138, 'in_iface': 'eth0', 'event_type': 'flow', 'src_ip': '172.18.0.1', 'src_port': 49562, 'dest_ip': '172.18.0.4', 'dest_port': 80, 'proto': 'TCP', 'flow': {'pkts_toserver': 1, 'pkts_toclient': 0, 'bytes_toserver': 74, 'bytes_toclient': 0, 'start': '2025-05-10T08:55:58.704452+0000', 'end': '2025-05-10T08:55:58.704452+0000', 'age': 0, 'state': 'new', 'reason': 'timeout', 'alerted': False}, 'tcp': {'tcp_flags': '02', 'tcp_flags_ts': '02', 'tcp_flags_tc': '00', 'syn': True, 'state': 'syn_sent', 'ts_max_regions': 1, 'tc_max_regions': 1}}\n"
     ]
    }
   ],
   "source": [
    "with open(log_file, 'r') as f:\n",
    "    for line in f:\n",
    "        try:\n",
    "            entry = json.loads(line)\n",
    "            print(entry)  # Or access specific keys like entry['event_type']\n",
    "        except json.JSONDecodeError:\n",
    "            print(\"Skipping malformed line\")"
   ]
  },
  {
   "cell_type": "code",
   "execution_count": 6,
   "id": "b9919a3e",
   "metadata": {},
   "outputs": [],
   "source": [
    "with open(log_file, \"r\") as f:\n",
    "    for line in f:\n",
    "        try:\n",
    "            entry = json.loads(line)\n",
    "            if entry.get(\"event_type\") == \"alert\":\n",
    "                alert = entry[\"alert\"]\n",
    "                sid = alert.get(\"signature_id\")\n",
    "                signature = alert.get(\"signature\")\n",
    "                src_ip = entry.get(\"src_ip\")\n",
    "                dest_ip = entry.get(\"dest_ip\")\n",
    "                timestamp = entry.get(\"timestamp\")\n",
    "\n",
    "                alerts.append(entry)\n",
    "                signature_counter[signature] += 1\n",
    "                ip_counter[src_ip] += 1\n",
    "                alerts_by_sid[sid].append({\n",
    "                    \"timestamp\": timestamp,\n",
    "                    \"src_ip\": src_ip,\n",
    "                    \"dest_ip\": dest_ip,\n",
    "                    \"signature\": signature\n",
    "                })\n",
    "        except json.JSONDecodeError:\n",
    "            continue"
   ]
  },
  {
   "cell_type": "code",
   "execution_count": 8,
   "id": "8f4f7f87",
   "metadata": {},
   "outputs": [
    {
     "name": "stdout",
     "output_type": "stream",
     "text": [
      "\n",
      "=== Alert Signature Summary ===\n",
      "\n",
      "=== Top Source IPs ===\n"
     ]
    }
   ],
   "source": [
    "# Print summary\n",
    "print(\"\\n=== Alert Signature Summary ===\")\n",
    "for sig, count in signature_counter.items():\n",
    "    print(f\"{sig}: {count} alert(s)\")\n",
    "\n",
    "print(\"\\n=== Top Source IPs ===\")\n",
    "for ip, count in ip_counter.most_common(5):\n",
    "    print(f\"{ip}: {count} alert(s)\")"
   ]
  },
  {
   "cell_type": "code",
   "execution_count": 9,
   "id": "a925be02",
   "metadata": {},
   "outputs": [
    {
     "data": {
      "image/png": "[encoded data removed]",
      "text/plain": [
       "<Figure size 1000x500 with 1 Axes>"
      ]
     },
     "metadata": {},
     "output_type": "display_data"
    }
   ],
   "source": [
    "# Optional: visualize alert distribution\n",
    "plt.figure(figsize=(10, 5))\n",
    "plt.bar(signature_counter.keys(), signature_counter.values())\n",
    "plt.title(\"Alert Frequency by Signature\")\n",
    "plt.ylabel(\"Count\")\n",
    "plt.xticks(rotation=45, ha='right')\n",
    "plt.tight_layout()\n",
    "plt.show()"
   ]
  }
 ],
 "metadata": {
  "kernelspec": {
   "display_name": "Python 3",
   "language": "python",
   "name": "python3"
  },
  "language_info": {
   "codemirror_mode": {
    "name": "ipython",
    "version": 3
   },
   "file_extension": ".py",
   "mimetype": "text/x-python",
   "name": "python",
   "nbconvert_exporter": "python",
   "pygments_lexer": "ipython3",
   "version": "3.12.6"
  }
 },
 "nbformat": 4,
 "nbformat_minor": 5
}
